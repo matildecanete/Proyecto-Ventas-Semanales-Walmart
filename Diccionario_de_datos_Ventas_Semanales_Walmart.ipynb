{
  "nbformat": 4,
  "nbformat_minor": 0,
  "metadata": {
    "colab": {
      "provenance": [],
      "authorship_tag": "ABX9TyO1wDxqpIDnLch0r63OMbS1",
      "include_colab_link": true
    },
    "kernelspec": {
      "name": "python3",
      "display_name": "Python 3"
    },
    "language_info": {
      "name": "python"
    }
  },
  "cells": [
    {
      "cell_type": "markdown",
      "metadata": {
        "id": "view-in-github",
        "colab_type": "text"
      },
      "source": [
        "<a href=\"https://colab.research.google.com/github/matildecanete/Proyecto-Ventas-Semanales-Walmart/blob/main/Diccionario_de_datos_Ventas_Semanales_Walmart.ipynb\" target=\"_parent\"><img src=\"https://colab.research.google.com/assets/colab-badge.svg\" alt=\"Open In Colab\"/></a>"
      ]
    },
    {
      "cell_type": "markdown",
      "source": [
        "Walmart busca predecir las ventas y la demanda de manera precisa, considerando factores como eventos, feriados y condiciones económicas. La empresa enfrenta desafíos por no contar con datos históricos completos, especialmente en eventos promocionales antes de feriados importantes como el Super Bowl y Navidad. Los datos disponibles abarcan las ventas de 45 tiendas entre 2010, 2011 y 2012.\n",
        "\n",
        "- Descripción de las variables en el conjunto de datos:\n",
        "\n",
        "    - Store: el número de la tienda.\n",
        "\n",
        "    - Date: la semana de ventas.\n",
        "\n",
        "    - Weekly_Sales: ventas de la tienda en esa semana (variable objetivo).\n",
        "\n",
        "    - Holiday_Flag: indica si la semana corresponde a un feriado (1 – semana de feriado, 0 – semana no festiva).\n",
        "\n",
        "    - Temperature: temperatura en el día de la venta.\n",
        "\n",
        "    - Fuel_Price: precio del combustible en la región.\n",
        "\n",
        "    - CPI: índice de precios al consumidor vigente.\n",
        "\n",
        "    - Unemployment: tasa de desempleo vigente."
      ],
      "metadata": {
        "id": "94eiD9eyKHtZ"
      }
    },
    {
      "cell_type": "markdown",
      "source": [
        "Fuente:\n",
        "\n",
        "https://www.kaggle.com/datasets/yasserh/walmart-dataset"
      ],
      "metadata": {
        "id": "1-cpfd_6LiDf"
      }
    }
  ]
}